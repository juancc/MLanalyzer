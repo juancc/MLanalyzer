{
  "nbformat": 4,
  "nbformat_minor": 0,
  "metadata": {
    "colab": {
      "name": "Analyzer-SURA-test1.ipynb",
      "provenance": [],
      "collapsed_sections": []
    },
    "kernelspec": {
      "name": "python3",
      "display_name": "Python 3"
    }
  },
  "cells": [
    {
      "cell_type": "code",
      "metadata": {
        "id": "J5IeD-keu2D9"
      },
      "source": [
        "# Analyzer configuration\n",
        "dataset_path = '/gdrive/My Drive/vaico-local/datasets/baluarte/analysis-test/'\n",
        "mode = 'predict'"
      ],
      "execution_count": null,
      "outputs": []
    },
    {
      "cell_type": "code",
      "metadata": {
        "id": "UXqul4D3oY3R"
      },
      "source": [
        "# Prediction model paths\n",
        "model_root = '/gdrive/My Drive/vaico-local/SURA/modelos/' \n",
        "workers_path = model_root + 'personas_yolov4-20200801.tflite'\n",
        "edges_path = model_root + 'bordes_Unet-20200901.tflite'\n",
        "helmet_path = model_root + 'cascos_resnet50-20200901.ml'\n",
        "harness_path = model_root + 'arnes_resnet50-20200901.ml' "
      ],
      "execution_count": null,
      "outputs": []
    },
    {
      "cell_type": "code",
      "metadata": {
        "id": "wFgQQ1FHnLP4"
      },
      "source": [
        "repo_path = '/gdrive/My\\ Drive/vaico-local/' +'/Repos/'\n",
        "mlgeometry = repo_path + 'MLgeometry-0.1.9.tar.gz'\n",
        "mlevaluator = repo_path + 'MLevaluator-0.0.1.tar.gz'\n",
        "mlinference = repo_path + 'mlinference-0.0.1.tar.gz'\n",
        "mldrawer = repo_path + 'MLdrawer-0.0.1.tar.gz'\n",
        "mlanalyzer = repo_path + 'mlanalyzer-0.0.1.tar.gz'"
      ],
      "execution_count": null,
      "outputs": []
    },
    {
      "cell_type": "code",
      "metadata": {
        "id": "7aHIA73kniWE",
        "outputId": "96e9d29b-aebb-40d4-9395-ef01a48b98c0",
        "colab": {
          "base_uri": "https://localhost:8080/",
          "height": 34
        }
      },
      "source": [
        "from google.colab import drive\n",
        "drive.mount('/gdrive')"
      ],
      "execution_count": null,
      "outputs": [
        {
          "output_type": "stream",
          "text": [
            "Mounted at /gdrive\n"
          ],
          "name": "stdout"
        }
      ]
    },
    {
      "cell_type": "code",
      "metadata": {
        "id": "5gaOaFnunloZ",
        "outputId": "6ff57ce5-9e13-44f8-9863-679db074f651",
        "colab": {
          "base_uri": "https://localhost:8080/",
          "height": 1000
        }
      },
      "source": [
        "!pip install $mlgeometry $mlinference $mlanalyzer"
      ],
      "execution_count": null,
      "outputs": [
        {
          "output_type": "stream",
          "text": [
            "Processing /gdrive/My Drive/vaico-local/Repos/MLgeometry-0.1.9.tar.gz\n",
            "Processing /gdrive/My Drive/vaico-local/Repos/mlinference-0.0.1.tar.gz\n",
            "Processing /gdrive/My Drive/vaico-local/Repos/mlanalyzer-0.0.1.tar.gz\n",
            "Requirement already satisfied: numpy in /usr/local/lib/python3.6/dist-packages (from mlinference==0.0.1) (1.18.5)\n",
            "Requirement already satisfied: opencv-python in /usr/local/lib/python3.6/dist-packages (from mlinference==0.0.1) (4.1.2.30)\n",
            "Collecting MLcommon\n",
            "  Downloading https://files.pythonhosted.org/packages/ea/50/00c05be6c874a7699659bfd5a36df9050f5cbe2a42190b98949ec9280cfe/MLcommon-0.1.7.tar.gz\n",
            "Requirement already satisfied: opencv-contrib-python in /usr/local/lib/python3.6/dist-packages (from mlinference==0.0.1) (4.1.2.30)\n",
            "Collecting tensorflow==2.2\n",
            "\u001b[?25l  Downloading https://files.pythonhosted.org/packages/3d/be/679ce5254a8c8d07470efb4a4c00345fae91f766e64f1c2aece8796d7218/tensorflow-2.2.0-cp36-cp36m-manylinux2010_x86_64.whl (516.2MB)\n",
            "\u001b[K     |████████████████████████████████| 516.2MB 30kB/s \n",
            "\u001b[?25hCollecting Keras==2.3.1\n",
            "\u001b[?25l  Downloading https://files.pythonhosted.org/packages/ad/fd/6bfe87920d7f4fd475acd28500a42482b6b84479832bdc0fe9e589a60ceb/Keras-2.3.1-py2.py3-none-any.whl (377kB)\n",
            "\u001b[K     |████████████████████████████████| 378kB 29.0MB/s \n",
            "\u001b[?25hRequirement already satisfied: gast==0.3.3 in /usr/local/lib/python3.6/dist-packages (from tensorflow==2.2->mlinference==0.0.1) (0.3.3)\n",
            "Requirement already satisfied: absl-py>=0.7.0 in /usr/local/lib/python3.6/dist-packages (from tensorflow==2.2->mlinference==0.0.1) (0.10.0)\n",
            "Requirement already satisfied: protobuf>=3.8.0 in /usr/local/lib/python3.6/dist-packages (from tensorflow==2.2->mlinference==0.0.1) (3.12.4)\n",
            "Requirement already satisfied: termcolor>=1.1.0 in /usr/local/lib/python3.6/dist-packages (from tensorflow==2.2->mlinference==0.0.1) (1.1.0)\n",
            "Requirement already satisfied: six>=1.12.0 in /usr/local/lib/python3.6/dist-packages (from tensorflow==2.2->mlinference==0.0.1) (1.15.0)\n",
            "Requirement already satisfied: wheel>=0.26; python_version >= \"3\" in /usr/local/lib/python3.6/dist-packages (from tensorflow==2.2->mlinference==0.0.1) (0.35.1)\n",
            "Requirement already satisfied: scipy==1.4.1; python_version >= \"3\" in /usr/local/lib/python3.6/dist-packages (from tensorflow==2.2->mlinference==0.0.1) (1.4.1)\n",
            "Requirement already satisfied: keras-preprocessing>=1.1.0 in /usr/local/lib/python3.6/dist-packages (from tensorflow==2.2->mlinference==0.0.1) (1.1.2)\n",
            "Requirement already satisfied: wrapt>=1.11.1 in /usr/local/lib/python3.6/dist-packages (from tensorflow==2.2->mlinference==0.0.1) (1.12.1)\n",
            "Requirement already satisfied: opt-einsum>=2.3.2 in /usr/local/lib/python3.6/dist-packages (from tensorflow==2.2->mlinference==0.0.1) (3.3.0)\n",
            "Requirement already satisfied: google-pasta>=0.1.8 in /usr/local/lib/python3.6/dist-packages (from tensorflow==2.2->mlinference==0.0.1) (0.2.0)\n",
            "Collecting tensorboard<2.3.0,>=2.2.0\n",
            "\u001b[?25l  Downloading https://files.pythonhosted.org/packages/1d/74/0a6fcb206dcc72a6da9a62dd81784bfdbff5fedb099982861dc2219014fb/tensorboard-2.2.2-py3-none-any.whl (3.0MB)\n",
            "\u001b[K     |████████████████████████████████| 3.0MB 37.7MB/s \n",
            "\u001b[?25hRequirement already satisfied: astunparse==1.6.3 in /usr/local/lib/python3.6/dist-packages (from tensorflow==2.2->mlinference==0.0.1) (1.6.3)\n",
            "Requirement already satisfied: grpcio>=1.8.6 in /usr/local/lib/python3.6/dist-packages (from tensorflow==2.2->mlinference==0.0.1) (1.32.0)\n",
            "Collecting tensorflow-estimator<2.3.0,>=2.2.0\n",
            "\u001b[?25l  Downloading https://files.pythonhosted.org/packages/a4/f5/926ae53d6a226ec0fda5208e0e581cffed895ccc89e36ba76a8e60895b78/tensorflow_estimator-2.2.0-py2.py3-none-any.whl (454kB)\n",
            "\u001b[K     |████████████████████████████████| 460kB 31.2MB/s \n",
            "\u001b[?25hRequirement already satisfied: h5py<2.11.0,>=2.10.0 in /usr/local/lib/python3.6/dist-packages (from tensorflow==2.2->mlinference==0.0.1) (2.10.0)\n",
            "Collecting keras-applications>=1.0.6\n",
            "\u001b[?25l  Downloading https://files.pythonhosted.org/packages/71/e3/19762fdfc62877ae9102edf6342d71b28fbfd9dea3d2f96a882ce099b03f/Keras_Applications-1.0.8-py3-none-any.whl (50kB)\n",
            "\u001b[K     |████████████████████████████████| 51kB 5.3MB/s \n",
            "\u001b[?25hRequirement already satisfied: pyyaml in /usr/local/lib/python3.6/dist-packages (from Keras==2.3.1->mlinference==0.0.1) (3.13)\n",
            "Requirement already satisfied: setuptools in /usr/local/lib/python3.6/dist-packages (from protobuf>=3.8.0->tensorflow==2.2->mlinference==0.0.1) (50.3.0)\n",
            "Requirement already satisfied: google-auth<2,>=1.6.3 in /usr/local/lib/python3.6/dist-packages (from tensorboard<2.3.0,>=2.2.0->tensorflow==2.2->mlinference==0.0.1) (1.17.2)\n",
            "Requirement already satisfied: markdown>=2.6.8 in /usr/local/lib/python3.6/dist-packages (from tensorboard<2.3.0,>=2.2.0->tensorflow==2.2->mlinference==0.0.1) (3.2.2)\n",
            "Requirement already satisfied: requests<3,>=2.21.0 in /usr/local/lib/python3.6/dist-packages (from tensorboard<2.3.0,>=2.2.0->tensorflow==2.2->mlinference==0.0.1) (2.23.0)\n",
            "Requirement already satisfied: werkzeug>=0.11.15 in /usr/local/lib/python3.6/dist-packages (from tensorboard<2.3.0,>=2.2.0->tensorflow==2.2->mlinference==0.0.1) (1.0.1)\n",
            "Requirement already satisfied: tensorboard-plugin-wit>=1.6.0 in /usr/local/lib/python3.6/dist-packages (from tensorboard<2.3.0,>=2.2.0->tensorflow==2.2->mlinference==0.0.1) (1.7.0)\n",
            "Requirement already satisfied: google-auth-oauthlib<0.5,>=0.4.1 in /usr/local/lib/python3.6/dist-packages (from tensorboard<2.3.0,>=2.2.0->tensorflow==2.2->mlinference==0.0.1) (0.4.1)\n",
            "Requirement already satisfied: pyasn1-modules>=0.2.1 in /usr/local/lib/python3.6/dist-packages (from google-auth<2,>=1.6.3->tensorboard<2.3.0,>=2.2.0->tensorflow==2.2->mlinference==0.0.1) (0.2.8)\n",
            "Requirement already satisfied: rsa<5,>=3.1.4; python_version >= \"3\" in /usr/local/lib/python3.6/dist-packages (from google-auth<2,>=1.6.3->tensorboard<2.3.0,>=2.2.0->tensorflow==2.2->mlinference==0.0.1) (4.6)\n",
            "Requirement already satisfied: cachetools<5.0,>=2.0.0 in /usr/local/lib/python3.6/dist-packages (from google-auth<2,>=1.6.3->tensorboard<2.3.0,>=2.2.0->tensorflow==2.2->mlinference==0.0.1) (4.1.1)\n",
            "Requirement already satisfied: importlib-metadata; python_version < \"3.8\" in /usr/local/lib/python3.6/dist-packages (from markdown>=2.6.8->tensorboard<2.3.0,>=2.2.0->tensorflow==2.2->mlinference==0.0.1) (2.0.0)\n",
            "Requirement already satisfied: certifi>=2017.4.17 in /usr/local/lib/python3.6/dist-packages (from requests<3,>=2.21.0->tensorboard<2.3.0,>=2.2.0->tensorflow==2.2->mlinference==0.0.1) (2020.6.20)\n",
            "Requirement already satisfied: urllib3!=1.25.0,!=1.25.1,<1.26,>=1.21.1 in /usr/local/lib/python3.6/dist-packages (from requests<3,>=2.21.0->tensorboard<2.3.0,>=2.2.0->tensorflow==2.2->mlinference==0.0.1) (1.24.3)\n",
            "Requirement already satisfied: chardet<4,>=3.0.2 in /usr/local/lib/python3.6/dist-packages (from requests<3,>=2.21.0->tensorboard<2.3.0,>=2.2.0->tensorflow==2.2->mlinference==0.0.1) (3.0.4)\n",
            "Requirement already satisfied: idna<3,>=2.5 in /usr/local/lib/python3.6/dist-packages (from requests<3,>=2.21.0->tensorboard<2.3.0,>=2.2.0->tensorflow==2.2->mlinference==0.0.1) (2.10)\n",
            "Requirement already satisfied: requests-oauthlib>=0.7.0 in /usr/local/lib/python3.6/dist-packages (from google-auth-oauthlib<0.5,>=0.4.1->tensorboard<2.3.0,>=2.2.0->tensorflow==2.2->mlinference==0.0.1) (1.3.0)\n",
            "Requirement already satisfied: pyasn1<0.5.0,>=0.4.6 in /usr/local/lib/python3.6/dist-packages (from pyasn1-modules>=0.2.1->google-auth<2,>=1.6.3->tensorboard<2.3.0,>=2.2.0->tensorflow==2.2->mlinference==0.0.1) (0.4.8)\n",
            "Requirement already satisfied: zipp>=0.5 in /usr/local/lib/python3.6/dist-packages (from importlib-metadata; python_version < \"3.8\"->markdown>=2.6.8->tensorboard<2.3.0,>=2.2.0->tensorflow==2.2->mlinference==0.0.1) (3.2.0)\n",
            "Requirement already satisfied: oauthlib>=3.0.0 in /usr/local/lib/python3.6/dist-packages (from requests-oauthlib>=0.7.0->google-auth-oauthlib<0.5,>=0.4.1->tensorboard<2.3.0,>=2.2.0->tensorflow==2.2->mlinference==0.0.1) (3.1.0)\n",
            "Building wheels for collected packages: MLgeometry, mlinference, MLcommon, mlanalyzer\n",
            "  Building wheel for MLgeometry (setup.py) ... \u001b[?25l\u001b[?25hdone\n",
            "  Created wheel for MLgeometry: filename=MLgeometry-0.1.9-cp36-none-any.whl size=9701 sha256=30b8929d304c00408d36703441b51ce6754d932428bdbcc61d7650eb5935cd13\n",
            "  Stored in directory: /root/.cache/pip/wheels/42/d1/da/3f8ae62f7d3936cc0d45dd8c36d7d912e2505002cb30f48991\n",
            "  Building wheel for mlinference (setup.py) ... \u001b[?25l\u001b[?25hdone\n",
            "  Created wheel for mlinference: filename=mlinference-0.0.1-cp36-none-any.whl size=70230 sha256=a632fde89b8732eb7dd64d7237a58c2a31ea1fbe7358795f2b983a64ddbc049a\n",
            "  Stored in directory: /root/.cache/pip/wheels/47/0d/c6/5ae216606abe04888445fa3e1bf32a4ba344345f6b07b932e6\n",
            "  Building wheel for MLcommon (setup.py) ... \u001b[?25l\u001b[?25hdone\n",
            "  Created wheel for MLcommon: filename=MLcommon-0.1.7-cp36-none-any.whl size=3912 sha256=efcb79e17e350a542c08c146dcc4b35ba7bd62991471a98d42de439338ae5e41\n",
            "  Stored in directory: /root/.cache/pip/wheels/e4/d0/df/6be8766dec0899e5a308ecf8e67c4e98f41bb835df17ad4246\n",
            "  Building wheel for mlanalyzer (setup.py) ... \u001b[?25l\u001b[?25hdone\n",
            "  Created wheel for mlanalyzer: filename=mlanalyzer-0.0.1-cp36-none-any.whl size=3554 sha256=d42ae4b289d7059cb9b7c7facc9fe2ad176593f757d1033d41f31f240336bc96\n",
            "  Stored in directory: /root/.cache/pip/wheels/48/4a/61/7d60bbcd033c78aaed5a1bcd8e8345cb5ff13f8868d327e061\n",
            "Successfully built MLgeometry mlinference MLcommon mlanalyzer\n",
            "Installing collected packages: MLgeometry, MLcommon, tensorboard, tensorflow-estimator, tensorflow, keras-applications, Keras, mlinference, mlanalyzer\n",
            "  Found existing installation: tensorboard 2.3.0\n",
            "    Uninstalling tensorboard-2.3.0:\n",
            "      Successfully uninstalled tensorboard-2.3.0\n",
            "  Found existing installation: tensorflow-estimator 2.3.0\n",
            "    Uninstalling tensorflow-estimator-2.3.0:\n",
            "      Successfully uninstalled tensorflow-estimator-2.3.0\n",
            "  Found existing installation: tensorflow 2.3.0\n",
            "    Uninstalling tensorflow-2.3.0:\n",
            "      Successfully uninstalled tensorflow-2.3.0\n",
            "  Found existing installation: Keras 2.4.3\n",
            "    Uninstalling Keras-2.4.3:\n",
            "      Successfully uninstalled Keras-2.4.3\n",
            "Successfully installed Keras-2.3.1 MLcommon-0.1.7 MLgeometry-0.1.9 keras-applications-1.0.8 mlanalyzer-0.0.1 mlinference-0.0.1 tensorboard-2.2.2 tensorflow-2.2.0 tensorflow-estimator-2.2.0\n"
          ],
          "name": "stdout"
        }
      ]
    },
    {
      "cell_type": "code",
      "metadata": {
        "id": "uAXF_i07oTII",
        "outputId": "c8c65726-d25b-4d91-eb4e-4ac131313f35",
        "colab": {
          "base_uri": "https://localhost:8080/",
          "height": 34
        }
      },
      "source": [
        "from MLinference.architectures import Yolo4, KerasClassifiers, UNet, OnEdge\n",
        "from MLinference.strategies import Posterior, Multi, Cascade"
      ],
      "execution_count": null,
      "outputs": [
        {
          "output_type": "stream",
          "text": [
            "Using TensorFlow backend.\n"
          ],
          "name": "stderr"
        }
      ]
    },
    {
      "cell_type": "code",
      "metadata": {
        "id": "Q7Na8pO4n9cF"
      },
      "source": [
        "# Create SURA models\n",
        "worker_detector = Yolo4.load(workers_path, labels={0:'persona'}, input_size=608)\n",
        "helmet_classifier = KerasClassifiers.load(helmet_path)\n",
        "harness_classifier = KerasClassifiers.load(harness_path)\n",
        "\n",
        "worker_cascade = Cascade(\n",
        "    main_model={'model':worker_detector},\n",
        "    sub_models={'persona': [\n",
        "        {'model': helmet_classifier},\n",
        "        {'model': harness_classifier}\n",
        "        ]}\n",
        ")\n",
        "\n",
        "edges_mask = UNet.load(edges_path, labels={0:'borde'})\n",
        "on_edge = OnEdge(None, interest_labels=['persona'], mask_label='borde', labels={0:'lejos', 1:'cerca'})\n",
        "main_models = Multi(models=[worker_cascade, edges_mask])\n",
        "\n",
        "model = Posterior(models=[main_models, on_edge])"
      ],
      "execution_count": null,
      "outputs": []
    },
    {
      "cell_type": "code",
      "metadata": {
        "id": "WLMG15VJve4C"
      },
      "source": [
        "from MLanalyzer.analyzer import analyzer"
      ],
      "execution_count": null,
      "outputs": []
    },
    {
      "cell_type": "code",
      "metadata": {
        "id": "h8Y5JDJkGAfx"
      },
      "source": [
        "def saving_condition(obj):\n",
        "    if obj.label == 'borde':\n",
        "        return False\n",
        "    return True"
      ],
      "execution_count": null,
      "outputs": []
    },
    {
      "cell_type": "code",
      "metadata": {
        "id": "qtGv3ZS3scOX",
        "outputId": "3471b2d2-12a8-4fa3-fcca-cb7d4f3828c6",
        "colab": {
          "base_uri": "https://localhost:8080/",
          "height": 192
        }
      },
      "source": [
        "# Analyze dataset\n",
        "analyzer(dataset_path, model=model, mode=mode, saving_condition=saving_condition )"
      ],
      "execution_count": null,
      "outputs": [
        {
          "output_type": "stream",
          "text": [
            "Running Analyzer. Mode: predict\n",
            "Making predictions on /gdrive/My Drive/vaico-local/datasets/baluarte/analysis-test/\n"
          ],
          "name": "stdout"
        },
        {
          "output_type": "stream",
          "text": [
            "\r  0%|          | 0/60 [00:00<?, ?it/s]"
          ],
          "name": "stderr"
        },
        {
          "output_type": "stream",
          "text": [
            " - Predicting images from:/gdrive/My Drive/vaico-local/datasets/baluarte/analysis-test/\n",
            " - Saving predictions in in /gdrive/My Drive/vaico-local/datasets/baluarte/analysis-test/predictions.json\n"
          ],
          "name": "stdout"
        },
        {
          "output_type": "stream",
          "text": [
            "/usr/local/lib/python3.6/dist-packages/MLinference/architectures/OnEdge.py:57: RuntimeWarning: Mean of empty slice.\n",
            "  score = crop[crop>0].mean()\n",
            "/usr/local/lib/python3.6/dist-packages/numpy/core/_methods.py:161: RuntimeWarning: invalid value encountered in true_divide\n",
            "  ret = ret.dtype.type(ret / rcount)\n",
            "100%|██████████| 60/60 [13:07<00:00, 13.13s/it]"
          ],
          "name": "stderr"
        },
        {
          "output_type": "stream",
          "text": [
            "Done\n"
          ],
          "name": "stdout"
        },
        {
          "output_type": "stream",
          "text": [
            "\n"
          ],
          "name": "stderr"
        }
      ]
    }
  ]
}